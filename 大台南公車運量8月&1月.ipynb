{
 "cells": [
  {
   "cell_type": "code",
   "execution_count": 2,
   "metadata": {},
   "outputs": [],
   "source": [
    "%matplotlib inline\n",
    "\n",
    "import numpy as np\n",
    "import matplotlib.pyplot as plt\n",
    "import pandas as pd"
   ]
  },
  {
   "cell_type": "code",
   "execution_count": 16,
   "metadata": {},
   "outputs": [],
   "source": [
    "df = pd.read_csv('http://data.tainan.gov.tw/dataset/510b677d-e0f5-4555-a30d-81b9a9dc9909/resource/c522d256-4c4a-4b0c-9c74-a05906fba038/download/opendata.csv')"
   ]
  },
  {
   "cell_type": "code",
   "execution_count": 17,
   "metadata": {},
   "outputs": [
    {
     "data": {
      "text/html": [
       "<div>\n",
       "<style scoped>\n",
       "    .dataframe tbody tr th:only-of-type {\n",
       "        vertical-align: middle;\n",
       "    }\n",
       "\n",
       "    .dataframe tbody tr th {\n",
       "        vertical-align: top;\n",
       "    }\n",
       "\n",
       "    .dataframe thead th {\n",
       "        text-align: right;\n",
       "    }\n",
       "</style>\n",
       "<table border=\"1\" class=\"dataframe\">\n",
       "  <thead>\n",
       "    <tr style=\"text-align: right;\">\n",
       "      <th></th>\n",
       "      <th>路線編號</th>\n",
       "      <th>路線名稱</th>\n",
       "      <th>路線類別</th>\n",
       "      <th>業者</th>\n",
       "      <th>年度</th>\n",
       "      <th>一月</th>\n",
       "      <th>二月</th>\n",
       "      <th>三月</th>\n",
       "      <th>四月</th>\n",
       "      <th>五月</th>\n",
       "      <th>六月</th>\n",
       "      <th>七月</th>\n",
       "      <th>八月</th>\n",
       "      <th>九月</th>\n",
       "      <th>十月</th>\n",
       "      <th>十一月</th>\n",
       "      <th>十二月</th>\n",
       "      <th>總計</th>\n",
       "    </tr>\n",
       "  </thead>\n",
       "  <tbody>\n",
       "    <tr>\n",
       "      <th>0</th>\n",
       "      <td>綠幹線</td>\n",
       "      <td>臺南-新化-玉井</td>\n",
       "      <td>幹支線</td>\n",
       "      <td>興南</td>\n",
       "      <td>103</td>\n",
       "      <td>105272</td>\n",
       "      <td>95777</td>\n",
       "      <td>113540</td>\n",
       "      <td>111901</td>\n",
       "      <td>119831</td>\n",
       "      <td>112863</td>\n",
       "      <td>110156</td>\n",
       "      <td>118233</td>\n",
       "      <td>117013</td>\n",
       "      <td>126274</td>\n",
       "      <td>124177</td>\n",
       "      <td>131083</td>\n",
       "      <td>1386120</td>\n",
       "    </tr>\n",
       "    <tr>\n",
       "      <th>1</th>\n",
       "      <td>綠1</td>\n",
       "      <td>新化-臺鐵南科-臺鐵善化</td>\n",
       "      <td>幹支線</td>\n",
       "      <td>興南</td>\n",
       "      <td>103</td>\n",
       "      <td>2434</td>\n",
       "      <td>2163</td>\n",
       "      <td>2590</td>\n",
       "      <td>2458</td>\n",
       "      <td>2627</td>\n",
       "      <td>2532</td>\n",
       "      <td>2726</td>\n",
       "      <td>2844</td>\n",
       "      <td>2437</td>\n",
       "      <td>2791</td>\n",
       "      <td>2802</td>\n",
       "      <td>3008</td>\n",
       "      <td>31412</td>\n",
       "    </tr>\n",
       "    <tr>\n",
       "      <th>2</th>\n",
       "      <td>綠2</td>\n",
       "      <td>新化-南科實中-山上</td>\n",
       "      <td>幹支線</td>\n",
       "      <td>興南</td>\n",
       "      <td>103</td>\n",
       "      <td>2605</td>\n",
       "      <td>2252</td>\n",
       "      <td>2591</td>\n",
       "      <td>2540</td>\n",
       "      <td>2970</td>\n",
       "      <td>2766</td>\n",
       "      <td>2530</td>\n",
       "      <td>2647</td>\n",
       "      <td>3204</td>\n",
       "      <td>3535</td>\n",
       "      <td>3510</td>\n",
       "      <td>3747</td>\n",
       "      <td>34897</td>\n",
       "    </tr>\n",
       "    <tr>\n",
       "      <th>3</th>\n",
       "      <td>綠3</td>\n",
       "      <td>新化-樹谷園區-臺鐵善化</td>\n",
       "      <td>幹支線</td>\n",
       "      <td>興南</td>\n",
       "      <td>103</td>\n",
       "      <td>1189</td>\n",
       "      <td>1053</td>\n",
       "      <td>1200</td>\n",
       "      <td>1145</td>\n",
       "      <td>1335</td>\n",
       "      <td>1401</td>\n",
       "      <td>1266</td>\n",
       "      <td>1321</td>\n",
       "      <td>1645</td>\n",
       "      <td>1826</td>\n",
       "      <td>1914</td>\n",
       "      <td>1835</td>\n",
       "      <td>17130</td>\n",
       "    </tr>\n",
       "    <tr>\n",
       "      <th>4</th>\n",
       "      <td>綠4</td>\n",
       "      <td>新化-陽光電城-臺鐵善化</td>\n",
       "      <td>幹支線</td>\n",
       "      <td>興南</td>\n",
       "      <td>103</td>\n",
       "      <td>1322</td>\n",
       "      <td>1319</td>\n",
       "      <td>1684</td>\n",
       "      <td>1679</td>\n",
       "      <td>1607</td>\n",
       "      <td>1450</td>\n",
       "      <td>1482</td>\n",
       "      <td>1455</td>\n",
       "      <td>1786</td>\n",
       "      <td>2105</td>\n",
       "      <td>2024</td>\n",
       "      <td>2038</td>\n",
       "      <td>19951</td>\n",
       "    </tr>\n",
       "  </tbody>\n",
       "</table>\n",
       "</div>"
      ],
      "text/plain": [
       "  路線編號          路線名稱 路線類別  業者   年度      一月     二月      三月      四月      五月  \\\n",
       "0  綠幹線      臺南-新化-玉井  幹支線  興南  103  105272  95777  113540  111901  119831   \n",
       "1   綠1  新化-臺鐵南科-臺鐵善化  幹支線  興南  103    2434   2163    2590    2458    2627   \n",
       "2   綠2    新化-南科實中-山上  幹支線  興南  103    2605   2252    2591    2540    2970   \n",
       "3   綠3  新化-樹谷園區-臺鐵善化  幹支線  興南  103    1189   1053    1200    1145    1335   \n",
       "4   綠4  新化-陽光電城-臺鐵善化  幹支線  興南  103    1322   1319    1684    1679    1607   \n",
       "\n",
       "       六月      七月      八月      九月      十月     十一月     十二月       總計  \n",
       "0  112863  110156  118233  117013  126274  124177  131083  1386120  \n",
       "1    2532    2726    2844    2437    2791    2802    3008    31412  \n",
       "2    2766    2530    2647    3204    3535    3510    3747    34897  \n",
       "3    1401    1266    1321    1645    1826    1914    1835    17130  \n",
       "4    1450    1482    1455    1786    2105    2024    2038    19951  "
      ]
     },
     "execution_count": 17,
     "metadata": {},
     "output_type": "execute_result"
    }
   ],
   "source": [
    "df.head()"
   ]
  },
  {
   "cell_type": "code",
   "execution_count": 18,
   "metadata": {},
   "outputs": [],
   "source": [
    "df.drop(['十二月','二月','三月','四月','五月','六月','七月','九月','十月','十一月','業者','路線類別','路線名稱','總計'],axis=1,inplace=True)"
   ]
  },
  {
   "cell_type": "code",
   "execution_count": 19,
   "metadata": {},
   "outputs": [
    {
     "data": {
      "text/html": [
       "<div>\n",
       "<style scoped>\n",
       "    .dataframe tbody tr th:only-of-type {\n",
       "        vertical-align: middle;\n",
       "    }\n",
       "\n",
       "    .dataframe tbody tr th {\n",
       "        vertical-align: top;\n",
       "    }\n",
       "\n",
       "    .dataframe thead th {\n",
       "        text-align: right;\n",
       "    }\n",
       "</style>\n",
       "<table border=\"1\" class=\"dataframe\">\n",
       "  <thead>\n",
       "    <tr style=\"text-align: right;\">\n",
       "      <th></th>\n",
       "      <th>路線編號</th>\n",
       "      <th>年度</th>\n",
       "      <th>一月</th>\n",
       "      <th>八月</th>\n",
       "    </tr>\n",
       "  </thead>\n",
       "  <tbody>\n",
       "    <tr>\n",
       "      <th>0</th>\n",
       "      <td>綠幹線</td>\n",
       "      <td>103</td>\n",
       "      <td>105272</td>\n",
       "      <td>118233</td>\n",
       "    </tr>\n",
       "    <tr>\n",
       "      <th>1</th>\n",
       "      <td>綠1</td>\n",
       "      <td>103</td>\n",
       "      <td>2434</td>\n",
       "      <td>2844</td>\n",
       "    </tr>\n",
       "    <tr>\n",
       "      <th>2</th>\n",
       "      <td>綠2</td>\n",
       "      <td>103</td>\n",
       "      <td>2605</td>\n",
       "      <td>2647</td>\n",
       "    </tr>\n",
       "    <tr>\n",
       "      <th>3</th>\n",
       "      <td>綠3</td>\n",
       "      <td>103</td>\n",
       "      <td>1189</td>\n",
       "      <td>1321</td>\n",
       "    </tr>\n",
       "    <tr>\n",
       "      <th>4</th>\n",
       "      <td>綠4</td>\n",
       "      <td>103</td>\n",
       "      <td>1322</td>\n",
       "      <td>1455</td>\n",
       "    </tr>\n",
       "  </tbody>\n",
       "</table>\n",
       "</div>"
      ],
      "text/plain": [
       "  路線編號   年度      一月      八月\n",
       "0  綠幹線  103  105272  118233\n",
       "1   綠1  103    2434    2844\n",
       "2   綠2  103    2605    2647\n",
       "3   綠3  103    1189    1321\n",
       "4   綠4  103    1322    1455"
      ]
     },
     "execution_count": 19,
     "metadata": {},
     "output_type": "execute_result"
    }
   ],
   "source": [
    "df.head()"
   ]
  },
  {
   "cell_type": "code",
   "execution_count": 20,
   "metadata": {},
   "outputs": [],
   "source": [
    "df2=df[84:99] #只取府城客運"
   ]
  },
  {
   "cell_type": "code",
   "execution_count": 21,
   "metadata": {},
   "outputs": [
    {
     "data": {
      "text/plain": [
       "<matplotlib.collections.PathCollection at 0x1ff5d95f978>"
      ]
     },
     "execution_count": 21,
     "metadata": {},
     "output_type": "execute_result"
    },
    {
     "data": {
      "image/png": "[encoded data removed]",
      "text/plain": [
       "<Figure size 432x288 with 1 Axes>"
      ]
     },
     "metadata": {},
     "output_type": "display_data"
    }
   ],
   "source": [
    "x = np.array(df2.八月) #8月\n",
    "y = np.array(df2.一月) #1月\n",
    "plt.scatter(x, y)"
   ]
  },
  {
   "cell_type": "code",
   "execution_count": 22,
   "metadata": {},
   "outputs": [],
   "source": [
    "from sklearn.linear_model import LinearRegression\n",
    "regr = LinearRegression()\n",
    "X=x.reshape(len(x),1)\n",
    "Y=y.reshape(len(y),1)"
   ]
  },
  {
   "cell_type": "code",
   "execution_count": 23,
   "metadata": {},
   "outputs": [],
   "source": [
    "from sklearn.model_selection import train_test_split\n",
    "x_train,x_test,y_train,y_test=train_test_split(X,Y,test_size=0.3,random_state=10000)"
   ]
  },
  {
   "cell_type": "code",
   "execution_count": 24,
   "metadata": {},
   "outputs": [
    {
     "data": {
      "text/plain": [
       "<matplotlib.collections.PathCollection at 0x1ff5e96c940>"
      ]
     },
     "execution_count": 24,
     "metadata": {},
     "output_type": "execute_result"
    },
    {
     "data": {
      "image/png": "[encoded data removed]",
      "text/plain": [
       "<Figure size 432x288 with 1 Axes>"
      ]
     },
     "metadata": {},
     "output_type": "display_data"
    }
   ],
   "source": [
    "plt.scatter(x_train,y_train)"
   ]
  },
  {
   "cell_type": "code",
   "execution_count": 25,
   "metadata": {},
   "outputs": [
    {
     "data": {
      "text/plain": [
       "LinearRegression(copy_X=True, fit_intercept=True, n_jobs=1, normalize=False)"
      ]
     },
     "execution_count": 25,
     "metadata": {},
     "output_type": "execute_result"
    }
   ],
   "source": [
    "regr.fit(x_train,y_train)"
   ]
  },
  {
   "cell_type": "code",
   "execution_count": 26,
   "metadata": {},
   "outputs": [],
   "source": [
    "Y_pred=regr.predict(x_test)"
   ]
  },
  {
   "cell_type": "code",
   "execution_count": 27,
   "metadata": {},
   "outputs": [
    {
     "data": {
      "text/plain": [
       "[<matplotlib.lines.Line2D at 0x1ff5e4a4ef0>]"
      ]
     },
     "execution_count": 27,
     "metadata": {},
     "output_type": "execute_result"
    },
    {
     "data": {
      "image/png": "[encoded data removed]",
      "text/plain": [
       "<Figure size 432x288 with 1 Axes>"
      ]
     },
     "metadata": {},
     "output_type": "display_data"
    }
   ],
   "source": [
    "plt.scatter(x_test, y_test)\n",
    "plt.plot(x_test, Y_pred, 'r')"
   ]
  },
  {
   "cell_type": "code",
   "execution_count": 28,
   "metadata": {},
   "outputs": [
    {
     "data": {
      "text/plain": [
       "0.9763774609379593"
      ]
     },
     "execution_count": 28,
     "metadata": {},
     "output_type": "execute_result"
    }
   ],
   "source": [
    "regr.score(x_test, y_test) "
   ]
  },
  {
   "cell_type": "code",
   "execution_count": null,
   "metadata": {},
   "outputs": [],
   "source": []
  }
 ],
 "metadata": {
  "kernelspec": {
   "display_name": "Python 3",
   "language": "python",
   "name": "python3"
  },
  "language_info": {
   "codemirror_mode": {
    "name": "ipython",
    "version": 3
   },
   "file_extension": ".py",
   "mimetype": "text/x-python",
   "name": "python",
   "nbconvert_exporter": "python",
   "pygments_lexer": "ipython3",
   "version": "3.6.5"
  }
 },
 "nbformat": 4,
 "nbformat_minor": 2
}
